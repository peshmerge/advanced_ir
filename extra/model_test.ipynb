{
 "cells": [
  {
   "cell_type": "code",
   "execution_count": 17,
   "id": "e51fe2d2-d30f-444a-b954-3dc70ec8aa72",
   "metadata": {},
   "outputs": [],
   "source": [
    "import os\n",
    "import timm\n",
    "import torch\n",
    "from tqdm import tqdm\n",
    "from torchinfo import summary"
   ]
  },
  {
   "cell_type": "code",
   "execution_count": 18,
   "id": "2e368f75-b138-42d2-bccc-895f131bd2b9",
   "metadata": {},
   "outputs": [],
   "source": [
    "%run model_notebook.ipynb"
   ]
  },
  {
   "cell_type": "code",
   "execution_count": 19,
   "id": "5ba76aa0-0b26-4307-b507-d296597a36a8",
   "metadata": {},
   "outputs": [],
   "source": [
    "# Setup the paths and constants\n",
    "BACKBONE = \"resnext\"\n",
    "POOL = \"GeM\"\n",
    "NORM = None\n",
    "MODEL_PATH = os.path.join(\"generalized_contrastive_loss\", \"Models\", \"MSLS\")\n",
    "RESNEXT_MODEL = os.path.join(MODEL_PATH, \"MSLS_resnext_GeM_480_GCL.pth\")"
   ]
  },
  {
   "cell_type": "markdown",
   "id": "d30f4a7b-34ff-4e07-b80c-5d58489fdebc",
   "metadata": {},
   "source": [
    "# Code for Pushing the Model\n",
    "### Don't run unless needed"
   ]
  },
  {
   "cell_type": "code",
   "execution_count": 20,
   "id": "90a92d16-3ba9-47a4-8494-90312b831a13",
   "metadata": {},
   "outputs": [],
   "source": [
    "# Run this code for pushing the model only\n",
    "# from huggingface_hub import notebook_login\n",
    "# notebook_login()"
   ]
  },
  {
   "cell_type": "code",
   "execution_count": 21,
   "id": "118b8422-2632-411c-a1ab-1fea999b7311",
   "metadata": {},
   "outputs": [],
   "source": [
    "# def upload_model(model, model_config):\n",
    "#     timm.models.hub.push_to_hf_hub(\n",
    "#         model,\n",
    "#         'siamese_network_gcl_trained',\n",
    "#         model_config=model_config\n",
    "#     )\n",
    "\n",
    "\n",
    "# # load the resnext model\n",
    "# resnext_model = torch.hub.load('facebookresearch/WSL-Images', 'resnext101_32x8d_wsl')\n",
    "# try:\n",
    "#     resnext_model.load_state_dict(torch.load(RESNEXT_MODEL)[\"model_state_dict\"])\n",
    "# except:\n",
    "#     resnext_model.load_state_dict(torch.load(RESNEXT_MODEL)[\"state_dict\"])\n",
    "\n",
    "# upload_model(resnext_model, model_config={\n",
    "#     \"architecture\": \"resnext101_32x8d\",\n",
    "#     \"groups\": 32,\n",
    "#     \"model_type\": \"resnet\",\n",
    "#     \"num_classes\": 0,\n",
    "#     \"num_features\": 2048,\n",
    "#     \"labels\": []\n",
    "# })"
   ]
  },
  {
   "cell_type": "markdown",
   "id": "dc04039c-1f67-4e72-9a74-efb93f50c345",
   "metadata": {},
   "source": [
    "# Retrieving the Model"
   ]
  },
  {
   "cell_type": "code",
   "execution_count": 22,
   "id": "52c71aa2-34f6-4e10-b729-5d3b8cba1412",
   "metadata": {},
   "outputs": [],
   "source": [
    "model = timm.create_model(\"hf-hub:Raizusekku/siamese_network_gcl_trained\", features_only=True, out_indices=(3,4))"
   ]
  },
  {
   "cell_type": "code",
   "execution_count": 23,
   "id": "38f50a0c-4e6f-45ac-b9f8-b6842532f988",
   "metadata": {},
   "outputs": [
    {
     "data": {
      "text/plain": [
       "[1024, 2048]"
      ]
     },
     "execution_count": 23,
     "metadata": {},
     "output_type": "execute_result"
    }
   ],
   "source": [
    "model.feature_info.channels()"
   ]
  },
  {
   "cell_type": "code",
   "execution_count": 24,
   "id": "7afc1917-c2f7-4b71-ba8b-c6f25faf66e7",
   "metadata": {},
   "outputs": [
    {
     "data": {
      "text/plain": [
       "['layer3', 'layer4']"
      ]
     },
     "execution_count": 24,
     "metadata": {},
     "output_type": "execute_result"
    }
   ],
   "source": [
    "model.feature_info.module_name()"
   ]
  },
  {
   "cell_type": "code",
   "execution_count": 25,
   "id": "59284805-eddb-4f2c-934e-008ac41c83ac",
   "metadata": {},
   "outputs": [
    {
     "data": {
      "text/plain": [
       "[{'num_chs': 1024, 'reduction': 16, 'module': 'layer3'},\n",
       " {'num_chs': 2048, 'reduction': 32, 'module': 'layer4'}]"
      ]
     },
     "execution_count": 25,
     "metadata": {},
     "output_type": "execute_result"
    }
   ],
   "source": [
    "model.feature_info.get_dicts()"
   ]
  },
  {
   "cell_type": "code",
   "execution_count": 29,
   "id": "10b1a6fc-0799-4d70-b57f-f4fe4ea25215",
   "metadata": {},
   "outputs": [],
   "source": [
    "summary(model, input_size = (16, 3, 480, 640), col_names = (\"input_size\", \"output_size\", \"num_params\", \"trainable\"), verbose = 1, depth=2)"
   ]
  },
  {
   "cell_type": "code",
   "execution_count": 3,
   "id": "ab001fc7-26e2-4e0e-9f92-a7a9e90dfe53",
   "metadata": {},
   "outputs": [],
   "source": [
    "from dolg import DolgNet\n",
    "from torchinfo import summary\n",
    "model = DolgNet(\n",
    "    input_dim=3,\n",
    "    hidden_dim=1024,\n",
    "    output_dim=512,\n",
    "    num_of_classes=88313\n",
    ")"
   ]
  },
  {
   "cell_type": "code",
   "execution_count": 9,
   "id": "e9a1e1b8",
   "metadata": {},
   "outputs": [
    {
     "name": "stdout",
     "output_type": "stream",
     "text": [
      "======================================================================================================================================================\n",
      "Layer (type:depth-idx)                             Input Shape               Output Shape              Param #                   Trainable\n",
      "======================================================================================================================================================\n",
      "DolgNet                                            [16, 3, 512, 512]         [16, 512]                 45,216,256                Partial\n",
      "├─FeatureListNet: 1-1                              [16, 3, 512, 512]         [16, 512, 64, 64]         --                        True\n",
      "│    └─Conv2d: 2-1                                 [16, 3, 512, 512]         [16, 64, 256, 256]        9,408                     True\n",
      "│    └─BatchNorm2d: 2-2                            [16, 64, 256, 256]        [16, 64, 256, 256]        128                       True\n",
      "│    └─ReLU: 2-3                                   [16, 64, 256, 256]        [16, 64, 256, 256]        --                        --\n",
      "│    └─MaxPool2d: 2-4                              [16, 64, 256, 256]        [16, 64, 128, 128]        --                        --\n",
      "│    └─Sequential: 2-5                             [16, 64, 128, 128]        [16, 256, 128, 128]       --                        True\n",
      "│    │    └─Bottleneck: 3-1                        [16, 64, 128, 128]        [16, 256, 128, 128]       75,008                    True\n",
      "│    │    └─Bottleneck: 3-2                        [16, 256, 128, 128]       [16, 256, 128, 128]       70,400                    True\n",
      "│    │    └─Bottleneck: 3-3                        [16, 256, 128, 128]       [16, 256, 128, 128]       70,400                    True\n",
      "│    └─Sequential: 2-6                             [16, 256, 128, 128]       [16, 512, 64, 64]         --                        True\n",
      "│    │    └─Bottleneck: 3-4                        [16, 256, 128, 128]       [16, 512, 64, 64]         379,392                   True\n",
      "│    │    └─Bottleneck: 3-5                        [16, 512, 64, 64]         [16, 512, 64, 64]         280,064                   True\n",
      "│    │    └─Bottleneck: 3-6                        [16, 512, 64, 64]         [16, 512, 64, 64]         280,064                   True\n",
      "│    │    └─Bottleneck: 3-7                        [16, 512, 64, 64]         [16, 512, 64, 64]         280,064                   True\n",
      "│    └─Sequential: 2-7                             [16, 512, 64, 64]         [16, 1024, 32, 32]        --                        True\n",
      "│    │    └─Bottleneck: 3-8                        [16, 512, 64, 64]         [16, 1024, 32, 32]        1,512,448                 True\n",
      "│    │    └─Bottleneck: 3-9                        [16, 1024, 32, 32]        [16, 1024, 32, 32]        1,117,184                 True\n",
      "│    │    └─Bottleneck: 3-10                       [16, 1024, 32, 32]        [16, 1024, 32, 32]        1,117,184                 True\n",
      "│    │    └─Bottleneck: 3-11                       [16, 1024, 32, 32]        [16, 1024, 32, 32]        1,117,184                 True\n",
      "│    │    └─Bottleneck: 3-12                       [16, 1024, 32, 32]        [16, 1024, 32, 32]        1,117,184                 True\n",
      "│    │    └─Bottleneck: 3-13                       [16, 1024, 32, 32]        [16, 1024, 32, 32]        1,117,184                 True\n",
      "│    │    └─Bottleneck: 3-14                       [16, 1024, 32, 32]        [16, 1024, 32, 32]        1,117,184                 True\n",
      "│    │    └─Bottleneck: 3-15                       [16, 1024, 32, 32]        [16, 1024, 32, 32]        1,117,184                 True\n",
      "│    │    └─Bottleneck: 3-16                       [16, 1024, 32, 32]        [16, 1024, 32, 32]        1,117,184                 True\n",
      "│    │    └─Bottleneck: 3-17                       [16, 1024, 32, 32]        [16, 1024, 32, 32]        1,117,184                 True\n",
      "│    │    └─Bottleneck: 3-18                       [16, 1024, 32, 32]        [16, 1024, 32, 32]        1,117,184                 True\n",
      "│    │    └─Bottleneck: 3-19                       [16, 1024, 32, 32]        [16, 1024, 32, 32]        1,117,184                 True\n",
      "│    │    └─Bottleneck: 3-20                       [16, 1024, 32, 32]        [16, 1024, 32, 32]        1,117,184                 True\n",
      "│    │    └─Bottleneck: 3-21                       [16, 1024, 32, 32]        [16, 1024, 32, 32]        1,117,184                 True\n",
      "│    │    └─Bottleneck: 3-22                       [16, 1024, 32, 32]        [16, 1024, 32, 32]        1,117,184                 True\n",
      "│    │    └─Bottleneck: 3-23                       [16, 1024, 32, 32]        [16, 1024, 32, 32]        1,117,184                 True\n",
      "│    │    └─Bottleneck: 3-24                       [16, 1024, 32, 32]        [16, 1024, 32, 32]        1,117,184                 True\n",
      "│    │    └─Bottleneck: 3-25                       [16, 1024, 32, 32]        [16, 1024, 32, 32]        1,117,184                 True\n",
      "│    │    └─Bottleneck: 3-26                       [16, 1024, 32, 32]        [16, 1024, 32, 32]        1,117,184                 True\n",
      "│    │    └─Bottleneck: 3-27                       [16, 1024, 32, 32]        [16, 1024, 32, 32]        1,117,184                 True\n",
      "│    │    └─Bottleneck: 3-28                       [16, 1024, 32, 32]        [16, 1024, 32, 32]        1,117,184                 True\n",
      "│    │    └─Bottleneck: 3-29                       [16, 1024, 32, 32]        [16, 1024, 32, 32]        1,117,184                 True\n",
      "│    │    └─Bottleneck: 3-30                       [16, 1024, 32, 32]        [16, 1024, 32, 32]        1,117,184                 True\n",
      "├─DolgLocalBranch: 1-2                             [16, 512, 64, 64]         [16, 1024, 64, 64]        --                        True\n",
      "│    └─MultiAtrous: 2-8                            [16, 512, 64, 64]         [16, 2048, 64, 64]        --                        True\n",
      "│    │    └─ModuleList: 3-31                       --                        --                        7,342,080                 True\n",
      "│    └─Conv2d: 2-9                                 [16, 2048, 64, 64]        [16, 1024, 64, 64]        2,098,176                 True\n",
      "│    └─ReLU: 2-10                                  [16, 1024, 64, 64]        [16, 1024, 64, 64]        --                        --\n",
      "│    └─Conv2d: 2-11                                [16, 1024, 64, 64]        [16, 1024, 64, 64]        1,048,576                 True\n",
      "│    └─BatchNorm2d: 2-12                           [16, 1024, 64, 64]        [16, 1024, 64, 64]        2,048                     True\n",
      "│    └─ReLU: 2-13                                  [16, 1024, 64, 64]        [16, 1024, 64, 64]        --                        --\n",
      "│    └─Conv2d: 2-14                                [16, 1024, 64, 64]        [16, 1024, 64, 64]        1,049,600                 True\n",
      "│    └─Softplus: 2-15                              [16, 1024, 64, 64]        [16, 1024, 64, 64]        --                        --\n",
      "├─GeM: 1-3                                         [16, 1024, 32, 32]        [16, 1024, 1, 1]          (1)                       False\n",
      "├─Linear: 1-4                                      [16, 1024]                [16, 1024]                1,049,600                 True\n",
      "├─OrthogonalFusion: 1-5                            [16, 1024, 64, 64]        [16, 2048, 64, 64]        --                        --\n",
      "├─AdaptiveAvgPool2d: 1-6                           [16, 2048, 64, 64]        [16, 2048, 1, 1]          --                        --\n",
      "├─Linear: 1-7                                      [16, 2048]                [16, 512]                 1,049,088                 True\n",
      "======================================================================================================================================================\n",
      "Total params: 86,390,849\n",
      "Trainable params: 86,390,848\n",
      "Non-trainable params: 1\n",
      "Total mult-adds (T): 1.32\n",
      "======================================================================================================================================================\n",
      "Input size (MB): 50.33\n",
      "Forward/backward pass size (MB): 23824.04\n",
      "Params size (MB): 164.70\n",
      "Estimated Total Size (MB): 24039.07\n",
      "======================================================================================================================================================\n"
     ]
    },
    {
     "data": {
      "text/plain": [
       "======================================================================================================================================================\n",
       "Layer (type:depth-idx)                             Input Shape               Output Shape              Param #                   Trainable\n",
       "======================================================================================================================================================\n",
       "DolgNet                                            [16, 3, 512, 512]         [16, 512]                 45,216,256                Partial\n",
       "├─FeatureListNet: 1-1                              [16, 3, 512, 512]         [16, 512, 64, 64]         --                        True\n",
       "│    └─Conv2d: 2-1                                 [16, 3, 512, 512]         [16, 64, 256, 256]        9,408                     True\n",
       "│    └─BatchNorm2d: 2-2                            [16, 64, 256, 256]        [16, 64, 256, 256]        128                       True\n",
       "│    └─ReLU: 2-3                                   [16, 64, 256, 256]        [16, 64, 256, 256]        --                        --\n",
       "│    └─MaxPool2d: 2-4                              [16, 64, 256, 256]        [16, 64, 128, 128]        --                        --\n",
       "│    └─Sequential: 2-5                             [16, 64, 128, 128]        [16, 256, 128, 128]       --                        True\n",
       "│    │    └─Bottleneck: 3-1                        [16, 64, 128, 128]        [16, 256, 128, 128]       75,008                    True\n",
       "│    │    └─Bottleneck: 3-2                        [16, 256, 128, 128]       [16, 256, 128, 128]       70,400                    True\n",
       "│    │    └─Bottleneck: 3-3                        [16, 256, 128, 128]       [16, 256, 128, 128]       70,400                    True\n",
       "│    └─Sequential: 2-6                             [16, 256, 128, 128]       [16, 512, 64, 64]         --                        True\n",
       "│    │    └─Bottleneck: 3-4                        [16, 256, 128, 128]       [16, 512, 64, 64]         379,392                   True\n",
       "│    │    └─Bottleneck: 3-5                        [16, 512, 64, 64]         [16, 512, 64, 64]         280,064                   True\n",
       "│    │    └─Bottleneck: 3-6                        [16, 512, 64, 64]         [16, 512, 64, 64]         280,064                   True\n",
       "│    │    └─Bottleneck: 3-7                        [16, 512, 64, 64]         [16, 512, 64, 64]         280,064                   True\n",
       "│    └─Sequential: 2-7                             [16, 512, 64, 64]         [16, 1024, 32, 32]        --                        True\n",
       "│    │    └─Bottleneck: 3-8                        [16, 512, 64, 64]         [16, 1024, 32, 32]        1,512,448                 True\n",
       "│    │    └─Bottleneck: 3-9                        [16, 1024, 32, 32]        [16, 1024, 32, 32]        1,117,184                 True\n",
       "│    │    └─Bottleneck: 3-10                       [16, 1024, 32, 32]        [16, 1024, 32, 32]        1,117,184                 True\n",
       "│    │    └─Bottleneck: 3-11                       [16, 1024, 32, 32]        [16, 1024, 32, 32]        1,117,184                 True\n",
       "│    │    └─Bottleneck: 3-12                       [16, 1024, 32, 32]        [16, 1024, 32, 32]        1,117,184                 True\n",
       "│    │    └─Bottleneck: 3-13                       [16, 1024, 32, 32]        [16, 1024, 32, 32]        1,117,184                 True\n",
       "│    │    └─Bottleneck: 3-14                       [16, 1024, 32, 32]        [16, 1024, 32, 32]        1,117,184                 True\n",
       "│    │    └─Bottleneck: 3-15                       [16, 1024, 32, 32]        [16, 1024, 32, 32]        1,117,184                 True\n",
       "│    │    └─Bottleneck: 3-16                       [16, 1024, 32, 32]        [16, 1024, 32, 32]        1,117,184                 True\n",
       "│    │    └─Bottleneck: 3-17                       [16, 1024, 32, 32]        [16, 1024, 32, 32]        1,117,184                 True\n",
       "│    │    └─Bottleneck: 3-18                       [16, 1024, 32, 32]        [16, 1024, 32, 32]        1,117,184                 True\n",
       "│    │    └─Bottleneck: 3-19                       [16, 1024, 32, 32]        [16, 1024, 32, 32]        1,117,184                 True\n",
       "│    │    └─Bottleneck: 3-20                       [16, 1024, 32, 32]        [16, 1024, 32, 32]        1,117,184                 True\n",
       "│    │    └─Bottleneck: 3-21                       [16, 1024, 32, 32]        [16, 1024, 32, 32]        1,117,184                 True\n",
       "│    │    └─Bottleneck: 3-22                       [16, 1024, 32, 32]        [16, 1024, 32, 32]        1,117,184                 True\n",
       "│    │    └─Bottleneck: 3-23                       [16, 1024, 32, 32]        [16, 1024, 32, 32]        1,117,184                 True\n",
       "│    │    └─Bottleneck: 3-24                       [16, 1024, 32, 32]        [16, 1024, 32, 32]        1,117,184                 True\n",
       "│    │    └─Bottleneck: 3-25                       [16, 1024, 32, 32]        [16, 1024, 32, 32]        1,117,184                 True\n",
       "│    │    └─Bottleneck: 3-26                       [16, 1024, 32, 32]        [16, 1024, 32, 32]        1,117,184                 True\n",
       "│    │    └─Bottleneck: 3-27                       [16, 1024, 32, 32]        [16, 1024, 32, 32]        1,117,184                 True\n",
       "│    │    └─Bottleneck: 3-28                       [16, 1024, 32, 32]        [16, 1024, 32, 32]        1,117,184                 True\n",
       "│    │    └─Bottleneck: 3-29                       [16, 1024, 32, 32]        [16, 1024, 32, 32]        1,117,184                 True\n",
       "│    │    └─Bottleneck: 3-30                       [16, 1024, 32, 32]        [16, 1024, 32, 32]        1,117,184                 True\n",
       "├─DolgLocalBranch: 1-2                             [16, 512, 64, 64]         [16, 1024, 64, 64]        --                        True\n",
       "│    └─MultiAtrous: 2-8                            [16, 512, 64, 64]         [16, 2048, 64, 64]        --                        True\n",
       "│    │    └─ModuleList: 3-31                       --                        --                        7,342,080                 True\n",
       "│    └─Conv2d: 2-9                                 [16, 2048, 64, 64]        [16, 1024, 64, 64]        2,098,176                 True\n",
       "│    └─ReLU: 2-10                                  [16, 1024, 64, 64]        [16, 1024, 64, 64]        --                        --\n",
       "│    └─Conv2d: 2-11                                [16, 1024, 64, 64]        [16, 1024, 64, 64]        1,048,576                 True\n",
       "│    └─BatchNorm2d: 2-12                           [16, 1024, 64, 64]        [16, 1024, 64, 64]        2,048                     True\n",
       "│    └─ReLU: 2-13                                  [16, 1024, 64, 64]        [16, 1024, 64, 64]        --                        --\n",
       "│    └─Conv2d: 2-14                                [16, 1024, 64, 64]        [16, 1024, 64, 64]        1,049,600                 True\n",
       "│    └─Softplus: 2-15                              [16, 1024, 64, 64]        [16, 1024, 64, 64]        --                        --\n",
       "├─GeM: 1-3                                         [16, 1024, 32, 32]        [16, 1024, 1, 1]          (1)                       False\n",
       "├─Linear: 1-4                                      [16, 1024]                [16, 1024]                1,049,600                 True\n",
       "├─OrthogonalFusion: 1-5                            [16, 1024, 64, 64]        [16, 2048, 64, 64]        --                        --\n",
       "├─AdaptiveAvgPool2d: 1-6                           [16, 2048, 64, 64]        [16, 2048, 1, 1]          --                        --\n",
       "├─Linear: 1-7                                      [16, 2048]                [16, 512]                 1,049,088                 True\n",
       "======================================================================================================================================================\n",
       "Total params: 86,390,849\n",
       "Trainable params: 86,390,848\n",
       "Non-trainable params: 1\n",
       "Total mult-adds (T): 1.32\n",
       "======================================================================================================================================================\n",
       "Input size (MB): 50.33\n",
       "Forward/backward pass size (MB): 23824.04\n",
       "Params size (MB): 164.70\n",
       "Estimated Total Size (MB): 24039.07\n",
       "======================================================================================================================================================"
      ]
     },
     "execution_count": 9,
     "metadata": {},
     "output_type": "execute_result"
    }
   ],
   "source": [
    "summary(model, input_size = (16, 3, 512, 512), col_names = (\"input_size\", \"output_size\", \"num_params\", \"trainable\"), verbose = 1, depth=3)"
   ]
  },
  {
   "cell_type": "code",
   "execution_count": null,
   "id": "986010f9",
   "metadata": {},
   "outputs": [],
   "source": []
  }
 ],
 "metadata": {
  "kernelspec": {
   "display_name": "apfir",
   "language": "python",
   "name": "python3"
  },
  "language_info": {
   "codemirror_mode": {
    "name": "ipython",
    "version": 3
   },
   "file_extension": ".py",
   "mimetype": "text/x-python",
   "name": "python",
   "nbconvert_exporter": "python",
   "pygments_lexer": "ipython3",
   "version": "3.8.13 | packaged by conda-forge | (default, Mar 25 2022, 06:05:16) \n[Clang 12.0.1 ]"
  },
  "vscode": {
   "interpreter": {
    "hash": "545453764902d2d334f43e52c32418f23b05e541ad8c155b39a8e06721c060bf"
   }
  }
 },
 "nbformat": 4,
 "nbformat_minor": 5
}
