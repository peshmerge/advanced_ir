{
 "cells": [
  {
   "cell_type": "code",
   "execution_count": 122,
   "id": "02073693-b7b6-4050-8996-43af9733f260",
   "metadata": {},
   "outputs": [],
   "source": [
    "import torch\n",
    "from sklearn.metrics.pairwise import cosine_similarity\n",
    "import os\n",
    "import pandas as pd\n",
    "import numpy as np\n"
   ]
  },
  {
   "cell_type": "code",
   "execution_count": 77,
   "id": "9d9d5cd1-d587-4113-abfb-918c16808046",
   "metadata": {},
   "outputs": [],
   "source": [
    "def fusion(global_features,local_features,order_first=\"local\"):\n",
    "    \"\"\"when you apply just the sequeeze() it removes all the ones\n",
    "    #so (1,2048,1,1) after squeezing -> (2048), adding that extra dimension on the zero \n",
    "    #axis :- unsqueeze(0) (1,2048)\"\"\"\n",
    "    \n",
    "    if order_first==\"local\":\n",
    "        if global_features.shape[0]==1:\n",
    "            x = torch.cat([local_features,global_features],axis=1).squeeze().unsqueeze(0)\n",
    "        else: #if we have batch size!=1, then we dont have to unsqueeze because it wont squeeze the batch size       \n",
    "            x = torch.cat([local_features,global_features],axis=1).squeeze()\n",
    "        return x\n",
    "    else:#stack global first\n",
    "        if global_features.shape[0]==1:\n",
    "            x = torch.cat([global_features,local_features],axis=1).squeeze().unsqueeze(0)\n",
    "        else:#if we have batch size!=1, then we dont have to unsqueeze     \n",
    "            x = torch.cat([global_features,local_features],axis=1).squeeze()\n",
    "        return x"
   ]
  },
  {
   "cell_type": "code",
   "execution_count": 11,
   "id": "4852fb5d-924f-4253-9531-6a6099a155c5",
   "metadata": {},
   "outputs": [],
   "source": [
    "global_matrix = torch.randn(20,2048,1,1)\n",
    "local_matrix = torch.randn(20,2048,1,1)"
   ]
  },
  {
   "cell_type": "code",
   "execution_count": 12,
   "id": "ace46cbe-a281-45f6-8de0-126a7783d3ae",
   "metadata": {},
   "outputs": [
    {
     "data": {
      "text/plain": [
       "torch.Size([20, 4096])"
      ]
     },
     "execution_count": 12,
     "metadata": {},
     "output_type": "execute_result"
    }
   ],
   "source": [
    "fusion(global_matrix,local_matrix,order_first=\"global\").size()"
   ]
  },
  {
   "cell_type": "code",
   "execution_count": 197,
   "id": "b994fd37-4b27-44d2-9418-28841201da9b",
   "metadata": {},
   "outputs": [],
   "source": [
    "df = pd.read_csv(\"data.csv\")"
   ]
  },
  {
   "cell_type": "code",
   "execution_count": 55,
   "id": "07dbe625-efc3-45e3-9ef1-b56b3334f832",
   "metadata": {},
   "outputs": [
    {
     "data": {
      "text/html": [
       "<div>\n",
       "<style scoped>\n",
       "    .dataframe tbody tr th:only-of-type {\n",
       "        vertical-align: middle;\n",
       "    }\n",
       "\n",
       "    .dataframe tbody tr th {\n",
       "        vertical-align: top;\n",
       "    }\n",
       "\n",
       "    .dataframe thead th {\n",
       "        text-align: right;\n",
       "    }\n",
       "</style>\n",
       "<table border=\"1\" class=\"dataframe\">\n",
       "  <thead>\n",
       "    <tr style=\"text-align: right;\">\n",
       "      <th></th>\n",
       "      <th>Unnamed: 0</th>\n",
       "      <th>query_id</th>\n",
       "      <th>retrieved_ids</th>\n",
       "      <th>retrieved_indicies</th>\n",
       "    </tr>\n",
       "  </thead>\n",
       "  <tbody>\n",
       "    <tr>\n",
       "      <th>0</th>\n",
       "      <td>0</td>\n",
       "      <td>x3vA7Bk0HNI6rGkDpDZQUQ</td>\n",
       "      <td>['X9V1oGRaAEFjq5jufrklTQ', 'E7gcrCyitkguCnMzoE...</td>\n",
       "      <td>[3, 5130, 5131, 0, 7912, 5132, 8812, 9186, 1, ...</td>\n",
       "    </tr>\n",
       "    <tr>\n",
       "      <th>1</th>\n",
       "      <td>1</td>\n",
       "      <td>U9Vj0IV4q1psciXpj51F_w</td>\n",
       "      <td>['X9V1oGRaAEFjq5jufrklTQ', '22BOHMokEHyXf9LA8B...</td>\n",
       "      <td>[3, 4504, 1, 1815, 9186, 0, 2, 9181, 5131, 513...</td>\n",
       "    </tr>\n",
       "    <tr>\n",
       "      <th>2</th>\n",
       "      <td>2</td>\n",
       "      <td>Eh1NwQjH4jbKcWqVJ4ZsJg</td>\n",
       "      <td>['X9V1oGRaAEFjq5jufrklTQ', '_Eq8EgtwLGiMFc7VJd...</td>\n",
       "      <td>[3, 4, 2, 1815, 7604, 1, 0, 8810, 5, 9186, 6, ...</td>\n",
       "    </tr>\n",
       "    <tr>\n",
       "      <th>3</th>\n",
       "      <td>3</td>\n",
       "      <td>1RKCGBAWsZbi5dj3vR2mlw</td>\n",
       "      <td>['_Eq8EgtwLGiMFc7VJdb-YQ', 'X9V1oGRaAEFjq5jufr...</td>\n",
       "      <td>[4, 3, 5, 6, 0, 8815, 9186, 9181, 8798, 1, 513...</td>\n",
       "    </tr>\n",
       "    <tr>\n",
       "      <th>4</th>\n",
       "      <td>4</td>\n",
       "      <td>LdiYwYkqgUfc1IYDu5ov9A</td>\n",
       "      <td>['Z4MR4AHQufgsCwiBiqQ23A', 'eQ-8kVNfMZiexVcu_V...</td>\n",
       "      <td>[5, 6, 4, 8815, 5133, 7049, 5125, 8816, 8811, ...</td>\n",
       "    </tr>\n",
       "  </tbody>\n",
       "</table>\n",
       "</div>"
      ],
      "text/plain": [
       "   Unnamed: 0                query_id  \\\n",
       "0           0  x3vA7Bk0HNI6rGkDpDZQUQ   \n",
       "1           1  U9Vj0IV4q1psciXpj51F_w   \n",
       "2           2  Eh1NwQjH4jbKcWqVJ4ZsJg   \n",
       "3           3  1RKCGBAWsZbi5dj3vR2mlw   \n",
       "4           4  LdiYwYkqgUfc1IYDu5ov9A   \n",
       "\n",
       "                                       retrieved_ids  \\\n",
       "0  ['X9V1oGRaAEFjq5jufrklTQ', 'E7gcrCyitkguCnMzoE...   \n",
       "1  ['X9V1oGRaAEFjq5jufrklTQ', '22BOHMokEHyXf9LA8B...   \n",
       "2  ['X9V1oGRaAEFjq5jufrklTQ', '_Eq8EgtwLGiMFc7VJd...   \n",
       "3  ['_Eq8EgtwLGiMFc7VJdb-YQ', 'X9V1oGRaAEFjq5jufr...   \n",
       "4  ['Z4MR4AHQufgsCwiBiqQ23A', 'eQ-8kVNfMZiexVcu_V...   \n",
       "\n",
       "                                  retrieved_indicies  \n",
       "0  [3, 5130, 5131, 0, 7912, 5132, 8812, 9186, 1, ...  \n",
       "1  [3, 4504, 1, 1815, 9186, 0, 2, 9181, 5131, 513...  \n",
       "2  [3, 4, 2, 1815, 7604, 1, 0, 8810, 5, 9186, 6, ...  \n",
       "3  [4, 3, 5, 6, 0, 8815, 9186, 9181, 8798, 1, 513...  \n",
       "4  [5, 6, 4, 8815, 5133, 7049, 5125, 8816, 8811, ...  "
      ]
     },
     "execution_count": 55,
     "metadata": {},
     "output_type": "execute_result"
    }
   ],
   "source": [
    "df.head()"
   ]
  },
  {
   "cell_type": "code",
   "execution_count": 154,
   "id": "e635a510-5e9d-4d28-81e1-fcdc3b8b7e83",
   "metadata": {},
   "outputs": [],
   "source": []
  },
  {
   "cell_type": "code",
   "execution_count": 183,
   "id": "7fdbaaf4-256e-4ca0-810c-f67b39898ca6",
   "metadata": {},
   "outputs": [],
   "source": []
  },
  {
   "cell_type": "markdown",
   "id": "17e404fa-073b-4351-9d43-a04a166dae79",
   "metadata": {},
   "source": [
    "first CPH length: 6595 second\n",
    "SF length: 4525"
   ]
  },
  {
   "cell_type": "code",
   "execution_count": 198,
   "id": "f609e582-f8ca-4034-86fa-aae750206b62",
   "metadata": {},
   "outputs": [],
   "source": [
    "def rank(local_features_cph_query,global_features_cph_query,\n",
    "         local_features_sf_query,global_features_sf_query,\n",
    "         local_features_cph_database,global_features_cph_database,\n",
    "         local_features_sf_database,global_features_sf_database,df):\n",
    "    \n",
    "    CPH_LEN = 6595\n",
    "    SF_LEN = 4525\n",
    "    for row in range(df.shape[0]):    \n",
    "\n",
    "        \n",
    "        if row<CPH_LEN:\n",
    "            #unsqueezing because when we access it we result in ([2048]), to make it ([1,2048])\n",
    "            #same for global\n",
    "            local_feature_query = local_features_cph_query[row].unsqueeze(0)\n",
    "            global_feature_query = global_features_cph_query[row].unsqueeze(0)\n",
    "            \n",
    "            #applying the fusion (1,4096)\n",
    "            query_fusion = fusion(global_feature_query,local_feature_query)\n",
    "            #eval basically converts to the required datatype given the string format\n",
    "            retrieved_indices = eval(df.iloc[row][\"retrieved_indicies\"])\n",
    "\n",
    "            database_feature_list = None\n",
    "            #fetching all the features first and concatenating them\n",
    "            for database_id in retrieved_indices:\n",
    "                #same reason as above(to why we unsqueezing)\n",
    "                global_feature_database = local_features_cph_database[database_id].unsqueeze(0)\n",
    "                \n",
    "                local_feature_database = local_features_cph_database[database_id].unsqueeze(0)\n",
    "                #(1,4096)\n",
    "                combined_features = fusion(global_feature_database,local_feature_database)\n",
    "                \n",
    "                if database_feature_list is None:\n",
    "                    database_feature_list = combined_features\n",
    "                else:\n",
    "                    database_feature_list = torch.cat([database_feature_list,combined_features])\n",
    "            #so now we result the size of database_feature_list as -> (top_k,4096)\n",
    "            #computing the similarity so we get (1,top_k) size. 1 because, 1 query image passed in\n",
    "            similarity = cosine_similarity(query_fusion,database_feature_list)\n",
    "            #getting the indices of the most similar and mapping to the retrieved list\n",
    "            ranked_indices = [retrieved_indices[i] for i in np.argsort(similarity)[0]]\n",
    "      \n",
    "            df.loc[row,\"re_ranked\"] = str(ranked_indices)\n",
    "\n",
    "        else: #For SF\n",
    "            \n",
    "            row = abs(row-CPH_LEN) \n",
    "            \n",
    "            local_feature_query = local_features_sf_query[row].unsqueeze(0)\n",
    "            global_feature_query = global_features_sf_query[row].unsqueeze(0)\n",
    "\n",
    "            query_fusion = fusion(global_feature_query,local_feature_query)\n",
    "        \n",
    "            retrieved_indices = eval(df.iloc[CPH_LEN+row][\"retrieved_indicies\"])\n",
    "            \n",
    "            \n",
    "            database_feature_list = None\n",
    "            \n",
    "            for database_id in retrieved_indices:\n",
    "          \n",
    "                global_feature_database = local_features_sf_database[database_id].unsqueeze(0)\n",
    "                \n",
    "                local_feature_database = local_features_sf_database[database_id].unsqueeze(0)\n",
    "                combined_features = fusion(global_feature_database,local_feature_database)\n",
    "                \n",
    "                if database_feature_list is None:\n",
    "                    database_feature_list = combined_features\n",
    "                else:\n",
    "                    database_feature_list = torch.cat([database_feature_list,combined_features])\n",
    "            \n",
    "            similarity = cosine_similarity(query_fusion,database_feature_list)\n",
    "            ranked_indices = [retrieved_indices[i] for i in np.argsort(similarity)[0]]\n",
    "            \n",
    "            df.loc[CPH_LEN+row,\"re_ranked\"] = str(ranked_indices)\n",
    "    \n",
    "    return df"
   ]
  },
  {
   "cell_type": "code",
   "execution_count": 203,
   "id": "c6854716-e900-4934-bd35-79f5faa78aad",
   "metadata": {},
   "outputs": [],
   "source": [
    "#simulation \n",
    "\n",
    "\n",
    "local_features_cph_query = torch.randn(6595,2048)\n",
    "global_features_cph_query = torch.randn(6595,2048)\n",
    "\n",
    "local_features_sf_query = torch.randn(4525,2048)\n",
    "global_features_sf_query = torch.randn(4525,2048)\n",
    "\n",
    "local_features_cph_database = torch.randn(20000,2048)\n",
    "global_features_cph_database = torch.randn(20000,2048)\n",
    "\n",
    "local_features_sf_database = torch.randn(20000,2048)\n",
    "global_features_sf_database = torch.randn(20000,2048)"
   ]
  },
  {
   "cell_type": "code",
   "execution_count": 200,
   "id": "3b49d9b7-e3de-429f-b8bd-7e75eb1b49e4",
   "metadata": {},
   "outputs": [],
   "source": [
    "new_df = rank(local_features_cph_query, global_features_cph_query,\n",
    "     local_features_sf_query,global_features_sf_query,\n",
    "     local_features_cph_database,global_features_cph_database,\n",
    "     local_features_sf_database,global_features_sf_database,df)"
   ]
  },
  {
   "cell_type": "code",
   "execution_count": 201,
   "id": "6218335f-2c0c-41d1-b3f4-03c3f6bdfe3c",
   "metadata": {},
   "outputs": [
    {
     "data": {
      "text/html": [
       "<div>\n",
       "<style scoped>\n",
       "    .dataframe tbody tr th:only-of-type {\n",
       "        vertical-align: middle;\n",
       "    }\n",
       "\n",
       "    .dataframe tbody tr th {\n",
       "        vertical-align: top;\n",
       "    }\n",
       "\n",
       "    .dataframe thead th {\n",
       "        text-align: right;\n",
       "    }\n",
       "</style>\n",
       "<table border=\"1\" class=\"dataframe\">\n",
       "  <thead>\n",
       "    <tr style=\"text-align: right;\">\n",
       "      <th></th>\n",
       "      <th>Unnamed: 0</th>\n",
       "      <th>query_id</th>\n",
       "      <th>retrieved_ids</th>\n",
       "      <th>retrieved_indicies</th>\n",
       "      <th>re_ranked</th>\n",
       "    </tr>\n",
       "  </thead>\n",
       "  <tbody>\n",
       "    <tr>\n",
       "      <th>0</th>\n",
       "      <td>0</td>\n",
       "      <td>x3vA7Bk0HNI6rGkDpDZQUQ</td>\n",
       "      <td>['X9V1oGRaAEFjq5jufrklTQ', 'E7gcrCyitkguCnMzoE...</td>\n",
       "      <td>[3, 5130, 5131, 0, 7912, 5132, 8812, 9186, 1, ...</td>\n",
       "      <td>[1760, 4505, 8250, 7896, 8251, 9186, 7530, 181...</td>\n",
       "    </tr>\n",
       "    <tr>\n",
       "      <th>1</th>\n",
       "      <td>1</td>\n",
       "      <td>U9Vj0IV4q1psciXpj51F_w</td>\n",
       "      <td>['X9V1oGRaAEFjq5jufrklTQ', '22BOHMokEHyXf9LA8B...</td>\n",
       "      <td>[3, 4504, 1, 1815, 9186, 0, 2, 9181, 5131, 513...</td>\n",
       "      <td>[4, 4504, 7608, 1816, 7896, 9521, 7912, 0, 697...</td>\n",
       "    </tr>\n",
       "    <tr>\n",
       "      <th>2</th>\n",
       "      <td>2</td>\n",
       "      <td>Eh1NwQjH4jbKcWqVJ4ZsJg</td>\n",
       "      <td>['X9V1oGRaAEFjq5jufrklTQ', '_Eq8EgtwLGiMFc7VJd...</td>\n",
       "      <td>[3, 4, 2, 1815, 7604, 1, 0, 8810, 5, 9186, 6, ...</td>\n",
       "      <td>[4, 1815, 7041, 4504, 1, 6, 5131, 2, 20, 9181,...</td>\n",
       "    </tr>\n",
       "    <tr>\n",
       "      <th>3</th>\n",
       "      <td>3</td>\n",
       "      <td>1RKCGBAWsZbi5dj3vR2mlw</td>\n",
       "      <td>['_Eq8EgtwLGiMFc7VJdb-YQ', 'X9V1oGRaAEFjq5jufr...</td>\n",
       "      <td>[4, 3, 5, 6, 0, 8815, 9186, 9181, 8798, 1, 513...</td>\n",
       "      <td>[530, 1815, 5, 1816, 3618, 4, 9186, 7913, 6206...</td>\n",
       "    </tr>\n",
       "    <tr>\n",
       "      <th>4</th>\n",
       "      <td>4</td>\n",
       "      <td>LdiYwYkqgUfc1IYDu5ov9A</td>\n",
       "      <td>['Z4MR4AHQufgsCwiBiqQ23A', 'eQ-8kVNfMZiexVcu_V...</td>\n",
       "      <td>[5, 6, 4, 8815, 5133, 7049, 5125, 8816, 8811, ...</td>\n",
       "      <td>[8816, 5125, 1227, 7050, 5135, 11926, 7049, 6,...</td>\n",
       "    </tr>\n",
       "  </tbody>\n",
       "</table>\n",
       "</div>"
      ],
      "text/plain": [
       "   Unnamed: 0                query_id  \\\n",
       "0           0  x3vA7Bk0HNI6rGkDpDZQUQ   \n",
       "1           1  U9Vj0IV4q1psciXpj51F_w   \n",
       "2           2  Eh1NwQjH4jbKcWqVJ4ZsJg   \n",
       "3           3  1RKCGBAWsZbi5dj3vR2mlw   \n",
       "4           4  LdiYwYkqgUfc1IYDu5ov9A   \n",
       "\n",
       "                                       retrieved_ids  \\\n",
       "0  ['X9V1oGRaAEFjq5jufrklTQ', 'E7gcrCyitkguCnMzoE...   \n",
       "1  ['X9V1oGRaAEFjq5jufrklTQ', '22BOHMokEHyXf9LA8B...   \n",
       "2  ['X9V1oGRaAEFjq5jufrklTQ', '_Eq8EgtwLGiMFc7VJd...   \n",
       "3  ['_Eq8EgtwLGiMFc7VJdb-YQ', 'X9V1oGRaAEFjq5jufr...   \n",
       "4  ['Z4MR4AHQufgsCwiBiqQ23A', 'eQ-8kVNfMZiexVcu_V...   \n",
       "\n",
       "                                  retrieved_indicies  \\\n",
       "0  [3, 5130, 5131, 0, 7912, 5132, 8812, 9186, 1, ...   \n",
       "1  [3, 4504, 1, 1815, 9186, 0, 2, 9181, 5131, 513...   \n",
       "2  [3, 4, 2, 1815, 7604, 1, 0, 8810, 5, 9186, 6, ...   \n",
       "3  [4, 3, 5, 6, 0, 8815, 9186, 9181, 8798, 1, 513...   \n",
       "4  [5, 6, 4, 8815, 5133, 7049, 5125, 8816, 8811, ...   \n",
       "\n",
       "                                           re_ranked  \n",
       "0  [1760, 4505, 8250, 7896, 8251, 9186, 7530, 181...  \n",
       "1  [4, 4504, 7608, 1816, 7896, 9521, 7912, 0, 697...  \n",
       "2  [4, 1815, 7041, 4504, 1, 6, 5131, 2, 20, 9181,...  \n",
       "3  [530, 1815, 5, 1816, 3618, 4, 9186, 7913, 6206...  \n",
       "4  [8816, 5125, 1227, 7050, 5135, 11926, 7049, 6,...  "
      ]
     },
     "execution_count": 201,
     "metadata": {},
     "output_type": "execute_result"
    }
   ],
   "source": [
    "new_df.head()"
   ]
  },
  {
   "cell_type": "code",
   "execution_count": 202,
   "id": "df74c8db-8f44-4bfd-b3a5-cf386e80bef8",
   "metadata": {},
   "outputs": [
    {
     "data": {
      "text/plain": [
       "Unnamed: 0            0\n",
       "query_id              0\n",
       "retrieved_ids         0\n",
       "retrieved_indicies    0\n",
       "re_ranked             0\n",
       "dtype: int64"
      ]
     },
     "execution_count": 202,
     "metadata": {},
     "output_type": "execute_result"
    }
   ],
   "source": [
    "new_df.isna().sum()"
   ]
  },
  {
   "cell_type": "code",
   "execution_count": null,
   "id": "694547d3-5fe2-415d-94ec-63405657f440",
   "metadata": {},
   "outputs": [],
   "source": []
  }
 ],
 "metadata": {
  "kernelspec": {
   "display_name": "apfir",
   "language": "python",
   "name": "apfir"
  },
  "language_info": {
   "codemirror_mode": {
    "name": "ipython",
    "version": 3
   },
   "file_extension": ".py",
   "mimetype": "text/x-python",
   "name": "python",
   "nbconvert_exporter": "python",
   "pygments_lexer": "ipython3",
   "version": "3.8.13"
  }
 },
 "nbformat": 4,
 "nbformat_minor": 5
}
