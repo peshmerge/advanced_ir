{
 "cells": [
  {
   "cell_type": "code",
   "execution_count": 131,
   "id": "02073693-b7b6-4050-8996-43af9733f260",
   "metadata": {},
   "outputs": [],
   "source": [
    "import torch\n",
    "from sklearn.metrics.pairwise import cosine_similarity\n",
    "import os"
   ]
  },
  {
   "cell_type": "code",
   "execution_count": 120,
   "id": "9d9d5cd1-d587-4113-abfb-918c16808046",
   "metadata": {},
   "outputs": [],
   "source": [
    "def fusion(global_features,local_features,order_first=\"local\"):\n",
    "    \"\"\"when you apply just the sequeeze() it removes all the ones\n",
    "    #so (1,2048,1,1) after squeezing -> (2048), adding that extra dimension on the zero \n",
    "    #axis :- unsqueeze(0) (1,2048)\"\"\"\n",
    "    if order_first==\"local\":\n",
    "        if global_features.shape[0]==1:\n",
    "            x = torch.cat([local_features,global_features],axis=1).squeeze().unsqueeze(0)\n",
    "        else:        \n",
    "            x = torch.cat([local_features,global_features],axis=1).squeeze()\n",
    "        return x\n",
    "    else:#stack global first\n",
    "        if global_features.shape[0]==1:\n",
    "            x = torch.cat([global_features,local_features],axis=1).squeeze().unsqueeze(0)\n",
    "        else:        \n",
    "            x = torch.cat([global_features,local_features],axis=1).squeeze()\n",
    "        return x"
   ]
  },
  {
   "cell_type": "code",
   "execution_count": 126,
   "id": "4852fb5d-924f-4253-9531-6a6099a155c5",
   "metadata": {},
   "outputs": [],
   "source": [
    "global_matrix = torch.randn(20,2048,1,1)\n",
    "local_matrix = torch.randn(20,2048,1,1)"
   ]
  },
  {
   "cell_type": "code",
   "execution_count": 127,
   "id": "ace46cbe-a281-45f6-8de0-126a7783d3ae",
   "metadata": {},
   "outputs": [
    {
     "data": {
      "text/plain": [
       "torch.Size([20, 4096])"
      ]
     },
     "execution_count": 127,
     "metadata": {},
     "output_type": "execute_result"
    }
   ],
   "source": [
    "fusion(global_matrix,local_matrix,order_first=\"global\").size()"
   ]
  },
  {
   "cell_type": "code",
   "execution_count": 132,
   "id": "8fd5b427-b4a1-4238-b1e0-151c8d167c67",
   "metadata": {},
   "outputs": [
    {
     "data": {
      "text/plain": [
       "['create_env.sh',\n",
       " '.ipynb_checkpoints',\n",
       " 'global_feature_verification.ipynb',\n",
       " 'Model check.ipynb',\n",
       " '.gitignore',\n",
       " 'Fusion.ipynb',\n",
       " 'model_notebook.ipynb',\n",
       " 'run_commands.txt',\n",
       " '.git',\n",
       " 'Untitled1.ipynb',\n",
       " 'model_test.ipynb',\n",
       " 'capture_predictions.ipynb',\n",
       " 'dolg.py',\n",
       " 'LICENSE',\n",
       " '__pycache__',\n",
       " 'global_feature_verification_dir']"
      ]
     },
     "execution_count": 132,
     "metadata": {},
     "output_type": "execute_result"
    }
   ],
   "source": [
    "os.listdir()"
   ]
  },
  {
   "cell_type": "code",
   "execution_count": null,
   "id": "b994fd37-4b27-44d2-9418-28841201da9b",
   "metadata": {},
   "outputs": [],
   "source": []
  }
 ],
 "metadata": {
  "kernelspec": {
   "display_name": "apfir",
   "language": "python",
   "name": "apfir"
  },
  "language_info": {
   "codemirror_mode": {
    "name": "ipython",
    "version": 3
   },
   "file_extension": ".py",
   "mimetype": "text/x-python",
   "name": "python",
   "nbconvert_exporter": "python",
   "pygments_lexer": "ipython3",
   "version": "3.8.13"
  }
 },
 "nbformat": 4,
 "nbformat_minor": 5
}
