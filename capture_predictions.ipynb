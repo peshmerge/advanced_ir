{
 "cells": [
  {
   "cell_type": "code",
   "execution_count": 1,
   "id": "0b37aaee-f540-4c17-806c-224cfaecc67a",
   "metadata": {},
   "outputs": [],
   "source": [
    "import os\n",
    "import numpy as np\n",
    "import pandas as pd\n",
    "\n",
    "from IPython.display import display"
   ]
  },
  {
   "cell_type": "code",
   "execution_count": 2,
   "id": "ff5833be-6057-409a-a4cf-2487da3c38bd",
   "metadata": {},
   "outputs": [],
   "source": [
    "# PATHS\n",
    "DATA_ROOT = \"generalized_contrastive_loss\"\n",
    "\n",
    "MSLS_MODELS = os.path.join(DATA_ROOT, \"Models\", \"MSLS\")\n",
    "RESULTS_ROOT = os.path.join(DATA_ROOT, \"results\", \"MSLS\", \"val\")\n",
    "PREDICTION_PATH = os.path.join(RESULTS_ROOT, \"MSLS_resnext_GeM_480_GCL_predictions.txt.npy\")\n",
    "FULL_PREDICTION_PATH = os.path.join(RESULTS_ROOT, \"MSLS_resnext_GeM_480_GCL_predictions.txt\")\n",
    "RESULTS_NPY_TEXT = \"MSLS_resnext_GeM_480_GCL_{city}_{file_type}.npy\"\n",
    "\n",
    "DATASET_ROOT = os.path.join(DATA_ROOT, \"msls\")\n",
    "DATASET_TEST = os.path.join(DATASET_ROOT, \"test\")\n",
    "DATASET_VAL = os.path.join(DATASET_ROOT, \"train_val\")"
   ]
  },
  {
   "cell_type": "code",
   "execution_count": 3,
   "id": "f7446d8c-5c3e-4e31-b3af-f95e82a01ba5",
   "metadata": {},
   "outputs": [
    {
     "name": "stdout",
     "output_type": "stream",
     "text": [
      "Prediction NPY: (4525, 31)\n"
     ]
    }
   ],
   "source": [
    "pred_data = np.load(PREDICTION_PATH)\n",
    "print(f\"Prediction NPY: {pred_data.shape}\")"
   ]
  },
  {
   "cell_type": "code",
   "execution_count": 4,
   "id": "86804f52-96e4-4a4b-9a89-385245982742",
   "metadata": {},
   "outputs": [
    {
     "name": "stdout",
     "output_type": "stream",
     "text": [
      "Map Feature CPH: (12601, 2048)\n",
      "Query Feature CPH: (6595, 2048)\n",
      "Distances CPH: (6595, 12601)\n"
     ]
    }
   ],
   "source": [
    "map_feature_data_cph = np.load(os.path.join(RESULTS_ROOT, RESULTS_NPY_TEXT.format(city=\"cph\", file_type=\"mapfeats\")))\n",
    "print(f\"Map Feature CPH: {map_feature_data_cph.shape}\")\n",
    "query_feature_data_cph = np.load(os.path.join(RESULTS_ROOT, RESULTS_NPY_TEXT.format(city=\"cph\", file_type=\"queryfeats\")))\n",
    "print(f\"Query Feature CPH: {query_feature_data_cph.shape}\")\n",
    "distances_cph = np.load(os.path.join(RESULTS_ROOT, RESULTS_NPY_TEXT.format(city=\"cph\", file_type=\"distances\")))\n",
    "print(f\"Distances CPH: {distances_cph.shape}\")"
   ]
  },
  {
   "cell_type": "code",
   "execution_count": 5,
   "id": "b1f7171a-7398-43fd-a57d-f1594efa6495",
   "metadata": {},
   "outputs": [
    {
     "name": "stdout",
     "output_type": "stream",
     "text": [
      "Map Feature SF: (6315, 2048)\n",
      "Query Feature SF: (4525, 2048)\n",
      "Distances SF: (4525, 6315)\n"
     ]
    }
   ],
   "source": [
    "map_feature_data_sf = np.load(os.path.join(RESULTS_ROOT, RESULTS_NPY_TEXT.format(city=\"sf\", file_type=\"mapfeats\")))\n",
    "print(f\"Map Feature SF: {map_feature_data_sf.shape}\")\n",
    "query_feature_data_sf = np.load(os.path.join(RESULTS_ROOT, RESULTS_NPY_TEXT.format(city=\"sf\", file_type=\"queryfeats\")))\n",
    "print(f\"Query Feature SF: {query_feature_data_sf.shape}\")\n",
    "distances_sf = np.load(os.path.join(RESULTS_ROOT, RESULTS_NPY_TEXT.format(city=\"sf\", file_type=\"distances\")))\n",
    "print(f\"Distances SF: {distances_sf.shape}\")"
   ]
  },
  {
   "cell_type": "code",
   "execution_count": 6,
   "id": "d4793c79-1fdb-434f-8022-7be3a6bf4859",
   "metadata": {},
   "outputs": [
    {
     "data": {
      "text/html": [
       "<div>\n",
       "<style scoped>\n",
       "    .dataframe tbody tr th:only-of-type {\n",
       "        vertical-align: middle;\n",
       "    }\n",
       "\n",
       "    .dataframe tbody tr th {\n",
       "        vertical-align: top;\n",
       "    }\n",
       "\n",
       "    .dataframe thead th {\n",
       "        text-align: right;\n",
       "    }\n",
       "</style>\n",
       "<table border=\"1\" class=\"dataframe\">\n",
       "  <thead>\n",
       "    <tr style=\"text-align: right;\">\n",
       "      <th></th>\n",
       "      <th>query_id</th>\n",
       "      <th>retrieved_ids</th>\n",
       "    </tr>\n",
       "  </thead>\n",
       "  <tbody>\n",
       "    <tr>\n",
       "      <th>0</th>\n",
       "      <td>x3vA7Bk0HNI6rGkDpDZQUQ</td>\n",
       "      <td>[X9V1oGRaAEFjq5jufrklTQ, E7gcrCyitkguCnMzoEwm0...</td>\n",
       "    </tr>\n",
       "    <tr>\n",
       "      <th>1</th>\n",
       "      <td>U9Vj0IV4q1psciXpj51F_w</td>\n",
       "      <td>[X9V1oGRaAEFjq5jufrklTQ, HU9GEfLAB9pm5RmjW4MLh...</td>\n",
       "    </tr>\n",
       "    <tr>\n",
       "      <th>2</th>\n",
       "      <td>Eh1NwQjH4jbKcWqVJ4ZsJg</td>\n",
       "      <td>[X9V1oGRaAEFjq5jufrklTQ, _Eq8EgtwLGiMFc7VJdb-Y...</td>\n",
       "    </tr>\n",
       "    <tr>\n",
       "      <th>3</th>\n",
       "      <td>1RKCGBAWsZbi5dj3vR2mlw</td>\n",
       "      <td>[_Eq8EgtwLGiMFc7VJdb-YQ, X9V1oGRaAEFjq5jufrklT...</td>\n",
       "    </tr>\n",
       "    <tr>\n",
       "      <th>4</th>\n",
       "      <td>LdiYwYkqgUfc1IYDu5ov9A</td>\n",
       "      <td>[Z4MR4AHQufgsCwiBiqQ23A, _Eq8EgtwLGiMFc7VJdb-Y...</td>\n",
       "    </tr>\n",
       "    <tr>\n",
       "      <th>...</th>\n",
       "      <td>...</td>\n",
       "      <td>...</td>\n",
       "    </tr>\n",
       "    <tr>\n",
       "      <th>11115</th>\n",
       "      <td>BdY6m-mEqcF_EAgWXhNhMQ</td>\n",
       "      <td>[c4u-9p_hYbMqZMV9M9NJOw, HWs14OYXLRbvsVJ7sHJX0...</td>\n",
       "    </tr>\n",
       "    <tr>\n",
       "      <th>11116</th>\n",
       "      <td>MISH40wohJPWQg2AQL91ww</td>\n",
       "      <td>[c4u-9p_hYbMqZMV9M9NJOw, L8wuXgwUX0RV_CZ9cDni7...</td>\n",
       "    </tr>\n",
       "    <tr>\n",
       "      <th>11117</th>\n",
       "      <td>8YnuOWWGLvmT1S405w3ydw</td>\n",
       "      <td>[L8wuXgwUX0RV_CZ9cDni7A, oaavK1hzB6S7lK3d4zNpU...</td>\n",
       "    </tr>\n",
       "    <tr>\n",
       "      <th>11118</th>\n",
       "      <td>yqa5OwamR2zj8KomdqC3FQ</td>\n",
       "      <td>[qOFK3KN5VcWMzBde01gPiA, S-MaMTx8Gq1AW144nSerd...</td>\n",
       "    </tr>\n",
       "    <tr>\n",
       "      <th>11119</th>\n",
       "      <td>XiaMs71_R8itAijzOWnQZw</td>\n",
       "      <td>[V_3GfOEie57IR4cEGKuI3A, qOFK3KN5VcWMzBde01gPi...</td>\n",
       "    </tr>\n",
       "  </tbody>\n",
       "</table>\n",
       "<p>11120 rows × 2 columns</p>\n",
       "</div>"
      ],
      "text/plain": [
       "                     query_id  \\\n",
       "0      x3vA7Bk0HNI6rGkDpDZQUQ   \n",
       "1      U9Vj0IV4q1psciXpj51F_w   \n",
       "2      Eh1NwQjH4jbKcWqVJ4ZsJg   \n",
       "3      1RKCGBAWsZbi5dj3vR2mlw   \n",
       "4      LdiYwYkqgUfc1IYDu5ov9A   \n",
       "...                       ...   \n",
       "11115  BdY6m-mEqcF_EAgWXhNhMQ   \n",
       "11116  MISH40wohJPWQg2AQL91ww   \n",
       "11117  8YnuOWWGLvmT1S405w3ydw   \n",
       "11118  yqa5OwamR2zj8KomdqC3FQ   \n",
       "11119  XiaMs71_R8itAijzOWnQZw   \n",
       "\n",
       "                                           retrieved_ids  \n",
       "0      [X9V1oGRaAEFjq5jufrklTQ, E7gcrCyitkguCnMzoEwm0...  \n",
       "1      [X9V1oGRaAEFjq5jufrklTQ, HU9GEfLAB9pm5RmjW4MLh...  \n",
       "2      [X9V1oGRaAEFjq5jufrklTQ, _Eq8EgtwLGiMFc7VJdb-Y...  \n",
       "3      [_Eq8EgtwLGiMFc7VJdb-YQ, X9V1oGRaAEFjq5jufrklT...  \n",
       "4      [Z4MR4AHQufgsCwiBiqQ23A, _Eq8EgtwLGiMFc7VJdb-Y...  \n",
       "...                                                  ...  \n",
       "11115  [c4u-9p_hYbMqZMV9M9NJOw, HWs14OYXLRbvsVJ7sHJX0...  \n",
       "11116  [c4u-9p_hYbMqZMV9M9NJOw, L8wuXgwUX0RV_CZ9cDni7...  \n",
       "11117  [L8wuXgwUX0RV_CZ9cDni7A, oaavK1hzB6S7lK3d4zNpU...  \n",
       "11118  [qOFK3KN5VcWMzBde01gPiA, S-MaMTx8Gq1AW144nSerd...  \n",
       "11119  [V_3GfOEie57IR4cEGKuI3A, qOFK3KN5VcWMzBde01gPi...  \n",
       "\n",
       "[11120 rows x 2 columns]"
      ]
     },
     "metadata": {},
     "output_type": "display_data"
    }
   ],
   "source": [
    "# read the predictions text file\n",
    "df = pd.read_fwf(FULL_PREDICTION_PATH, header=None)\n",
    "df['combined'] = df.drop(0, axis=1).values.tolist()\n",
    "df = df[[0, 'combined']]\n",
    "df.columns = ['query_id', 'retrieved_ids']\n",
    "display(df)"
   ]
  },
  {
   "cell_type": "code",
   "execution_count": null,
   "id": "5d573de8-dfcf-4c7a-ba1d-6e04022332e4",
   "metadata": {},
   "outputs": [],
   "source": []
  }
 ],
 "metadata": {
  "kernelspec": {
   "display_name": "apfir",
   "language": "python",
   "name": "apfir"
  },
  "language_info": {
   "codemirror_mode": {
    "name": "ipython",
    "version": 3
   },
   "file_extension": ".py",
   "mimetype": "text/x-python",
   "name": "python",
   "nbconvert_exporter": "python",
   "pygments_lexer": "ipython3",
   "version": "3.8.13"
  }
 },
 "nbformat": 4,
 "nbformat_minor": 5
}
